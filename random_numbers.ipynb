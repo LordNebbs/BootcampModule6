{
 "cells": [
  {
   "cell_type": "code",
   "execution_count": 1,
   "id": "dd3a62de",
   "metadata": {},
   "outputs": [],
   "source": [
    "#import the random module\n",
    "import random"
   ]
  },
  {
   "cell_type": "code",
   "execution_count": 2,
   "id": "8e58db5f",
   "metadata": {},
   "outputs": [
    {
     "data": {
      "text/plain": [
       "-60"
      ]
     },
     "execution_count": 2,
     "metadata": {},
     "output_type": "execute_result"
    }
   ],
   "source": [
    "random.randint(-90,90)\n"
   ]
  },
  {
   "cell_type": "code",
   "execution_count": 3,
   "id": "8ef84375",
   "metadata": {},
   "outputs": [
    {
     "data": {
      "text/plain": [
       "0.4801326155892728"
      ]
     },
     "execution_count": 3,
     "metadata": {},
     "output_type": "execute_result"
    }
   ],
   "source": [
    "random.random()"
   ]
  },
  {
   "cell_type": "code",
   "execution_count": 5,
   "id": "908a1153",
   "metadata": {},
   "outputs": [
    {
     "data": {
      "text/plain": [
       "36.8624259700416"
      ]
     },
     "execution_count": 5,
     "metadata": {},
     "output_type": "execute_result"
    }
   ],
   "source": [
    "random_number = random.randint(-90,89)+random.random()\n",
    "random_number"
   ]
  },
  {
   "cell_type": "code",
   "execution_count": 6,
   "id": "40e5c9e0",
   "metadata": {},
   "outputs": [],
   "source": [
    "x = 1\n",
    "latitudes = []\n",
    "while x < 11:\n",
    "    random_lat = random.randint(-90,89)+random.random()\n",
    "    latitudes.append(random_lat)\n",
    "    x += 1"
   ]
  },
  {
   "cell_type": "code",
   "execution_count": 7,
   "id": "15cc4068",
   "metadata": {},
   "outputs": [
    {
     "data": {
      "text/plain": [
       "[-49.33963322502348,\n",
       " 58.556915871940376,\n",
       " 13.110658070536413,\n",
       " 0.9149151282683001,\n",
       " 4.2725910503438165,\n",
       " 26.67109286525441,\n",
       " -37.82950103432892,\n",
       " 56.35051814102026,\n",
       " 20.63913250546843,\n",
       " 80.84929402322071]"
      ]
     },
     "execution_count": 7,
     "metadata": {},
     "output_type": "execute_result"
    }
   ],
   "source": [
    "latitudes"
   ]
  },
  {
   "cell_type": "code",
   "execution_count": 8,
   "id": "f28488a0",
   "metadata": {},
   "outputs": [
    {
     "data": {
      "text/plain": [
       "-34"
      ]
     },
     "execution_count": 8,
     "metadata": {},
     "output_type": "execute_result"
    }
   ],
   "source": [
    "random.randrange(-90,90, step=1)"
   ]
  },
  {
   "cell_type": "code",
   "execution_count": 9,
   "id": "91ea41b9",
   "metadata": {},
   "outputs": [
    {
     "data": {
      "text/plain": [
       "15"
      ]
     },
     "execution_count": 9,
     "metadata": {},
     "output_type": "execute_result"
    }
   ],
   "source": [
    "random.randrange(-90,90, step=3)"
   ]
  },
  {
   "cell_type": "code",
   "execution_count": 10,
   "id": "c4918b78",
   "metadata": {},
   "outputs": [
    {
     "data": {
      "text/plain": [
       "36.713721618606456"
      ]
     },
     "execution_count": 10,
     "metadata": {},
     "output_type": "execute_result"
    }
   ],
   "source": [
    "random.uniform(-90,90)"
   ]
  },
  {
   "cell_type": "code",
   "execution_count": 11,
   "id": "87fccb62",
   "metadata": {},
   "outputs": [],
   "source": [
    "import numpy as np"
   ]
  },
  {
   "cell_type": "code",
   "execution_count": 12,
   "id": "f44cca12",
   "metadata": {},
   "outputs": [
    {
     "data": {
      "text/plain": [
       "87.22220599491322"
      ]
     },
     "execution_count": 12,
     "metadata": {},
     "output_type": "execute_result"
    }
   ],
   "source": [
    "np.random.uniform(-90.000,90.000)"
   ]
  },
  {
   "cell_type": "code",
   "execution_count": 13,
   "id": "c6a540a5",
   "metadata": {},
   "outputs": [
    {
     "data": {
      "text/plain": [
       "array([-88.41922137, -46.71168993, -45.11268983, -49.02424156,\n",
       "       -62.17442458, -60.79743713,  10.84500407, -56.74139058,\n",
       "       -12.85244442, -77.65768473, -66.38602893,  76.9175238 ,\n",
       "         3.49455572, -70.91786356, -33.87649496,  -0.81858472,\n",
       "        85.84427743, -36.19910754, -61.2867128 , -51.99232684,\n",
       "       -53.63931761, -58.16320078, -68.76145184,  17.807167  ,\n",
       "       -28.13655576,  13.17594097,  84.3147622 , -24.16456101,\n",
       "       -65.31040216,  83.58649794,  78.41605261, -44.44535299,\n",
       "        38.4884752 ,  30.41091477,  64.71775337, -37.38847872,\n",
       "        44.22551856, -81.82378439,  60.57679008, -34.99782175,\n",
       "        -8.50263502,  45.82660701,  70.81104496,  21.018945  ,\n",
       "        47.42567288,  87.6687304 , -54.55836801, -68.9826634 ,\n",
       "        46.69644037, -41.22025958])"
      ]
     },
     "execution_count": 13,
     "metadata": {},
     "output_type": "execute_result"
    }
   ],
   "source": [
    "np.random.uniform(-90.000, 90.000, size=50)"
   ]
  },
  {
   "cell_type": "code",
   "execution_count": 14,
   "id": "c30673bd",
   "metadata": {},
   "outputs": [],
   "source": [
    "import timeit"
   ]
  },
  {
   "cell_type": "code",
   "execution_count": 17,
   "id": "81c43eec",
   "metadata": {},
   "outputs": [
    {
     "name": "stdout",
     "output_type": "stream",
     "text": [
      "12.6 µs ± 52.9 ns per loop (mean ± std. dev. of 7 runs, 100,000 loops each)\n"
     ]
    }
   ],
   "source": [
    "%timeit np.random.uniform(-90.000, 90.000, size=1500)"
   ]
  },
  {
   "cell_type": "code",
   "execution_count": 18,
   "id": "d8857dce",
   "metadata": {},
   "outputs": [
    {
     "name": "stdout",
     "output_type": "stream",
     "text": [
      "1.24 ms ± 3.48 µs per loop (mean ± std. dev. of 7 runs, 1,000 loops each)\n"
     ]
    }
   ],
   "source": [
    "def latitudes(size):\n",
    "    latitudes = []\n",
    "    x = 0\n",
    "    while x < (size):\n",
    "        random_lat = random.randint(-90, 90) + random.random()\n",
    "        latitudes.append(random_lat)\n",
    "        x += 1\n",
    "    return latitudes\n",
    "# Call the function with 1500.\n",
    "%timeit latitudes(1500)"
   ]
  },
  {
   "cell_type": "code",
   "execution_count": null,
   "id": "565349ea",
   "metadata": {},
   "outputs": [],
   "source": []
  }
 ],
 "metadata": {
  "kernelspec": {
   "display_name": "PythonData",
   "language": "python",
   "name": "pythondata"
  },
  "language_info": {
   "codemirror_mode": {
    "name": "ipython",
    "version": 3
   },
   "file_extension": ".py",
   "mimetype": "text/x-python",
   "name": "python",
   "nbconvert_exporter": "python",
   "pygments_lexer": "ipython3",
   "version": "3.9.12"
  }
 },
 "nbformat": 4,
 "nbformat_minor": 5
}
